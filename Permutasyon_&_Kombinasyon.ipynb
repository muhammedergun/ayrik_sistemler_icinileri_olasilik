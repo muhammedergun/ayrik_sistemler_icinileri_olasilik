{
  "nbformat": 4,
  "nbformat_minor": 0,
  "metadata": {
    "colab": {
      "name": "Permutasyon & Kombinasyon.ipynb",
      "version": "0.3.2",
      "provenance": [],
      "collapsed_sections": [],
      "include_colab_link": true
    },
    "kernelspec": {
      "name": "python3",
      "display_name": "Python 3"
    }
  },
  "cells": [
    {
      "cell_type": "markdown",
      "metadata": {
        "id": "view-in-github",
        "colab_type": "text"
      },
      "source": [
        "<a href=\"https://colab.research.google.com/github/muhammedergun/ayrik_sistemler_icinileri_olasilik/blob/master/Permutasyon_%26_Kombinasyon.ipynb\" target=\"_parent\"><img src=\"https://colab.research.google.com/assets/colab-badge.svg\" alt=\"Open In Colab\"/></a>"
      ]
    },
    {
      "metadata": {
        "id": "rMTQVvfrEZ5O",
        "colab_type": "text"
      },
      "cell_type": "markdown",
      "source": [
        "# Permutasyon Örneği"
      ]
    },
    {
      "metadata": {
        "id": "d_OQGQNHExL9",
        "colab_type": "text"
      },
      "cell_type": "markdown",
      "source": [
        "**3 farklı matematik, 4 farklı fizik ve 5 farklı kimya kitapları düz bir rafa yanyana dizilecektir.**"
      ]
    },
    {
      "metadata": {
        "id": "GwvYG8beE2pY",
        "colab_type": "text"
      },
      "cell_type": "markdown",
      "source": [
        "a) Kaç farklı şekilde dizilebilirler?"
      ]
    },
    {
      "metadata": {
        "id": "Ph9ujTMvE-GR",
        "colab_type": "code",
        "colab": {}
      },
      "cell_type": "code",
      "source": [
        "import math\n",
        "\n",
        "toplam=3+4+5\n",
        "print(\"%s! = %s\" % (toplam,math.factorial(toplam)))"
      ],
      "execution_count": 0,
      "outputs": []
    },
    {
      "metadata": {
        "id": "ZTea4tNgFHE5",
        "colab_type": "text"
      },
      "cell_type": "markdown",
      "source": [
        "b) Matematikler bir arada olmak kosulu ile kaç farklı sekilde dizilebilirler?"
      ]
    },
    {
      "metadata": {
        "id": "QXBPm_EpFKZX",
        "colab_type": "code",
        "colab": {}
      },
      "cell_type": "code",
      "source": [
        "toplam=1+4+5\n",
        "matematik=3\n",
        "sonuc=math.factorial(toplam)*math.factorial(matematik)\n",
        "print(\"%s! * %s! = %s\" % (toplam,matematik,sonuc))"
      ],
      "execution_count": 0,
      "outputs": []
    },
    {
      "metadata": {
        "id": "YZGQpulWFQA0",
        "colab_type": "text"
      },
      "cell_type": "markdown",
      "source": [
        "c) Aynı branşlar bir arada olmak kosulu ile kaç farklı sekilde dizilebilirler?"
      ]
    },
    {
      "metadata": {
        "id": "Sum2c5UrFULY",
        "colab_type": "code",
        "colab": {}
      },
      "cell_type": "code",
      "source": [
        "toplam=1+1+1\n",
        "matematik=3\n",
        "fizik=4\n",
        "kimya=5\n",
        "sonuc = math.factorial(toplam)*math.factorial(matematik)*math.factorial(fizik)*math.factorial(kimya)\n",
        "print(\"%s! * %s! * %s! * %s! = %s\" % (toplam,matematik,fizik,kimya,sonuc))"
      ],
      "execution_count": 0,
      "outputs": []
    },
    {
      "metadata": {
        "id": "JJ7QMg00FpNM",
        "colab_type": "text"
      },
      "cell_type": "markdown",
      "source": [
        "# Kombinasyon Örneği"
      ]
    },
    {
      "metadata": {
        "id": "OBTw8xbKFt0T",
        "colab_type": "text"
      },
      "cell_type": "markdown",
      "source": [
        "**Herhangi üçü doğrusal olmayan, aynı düzlem üzerinde 7 farklı nokta veriliyor.**"
      ]
    },
    {
      "metadata": {
        "id": "Z2PGZ7g9Fyi_",
        "colab_type": "text"
      },
      "cell_type": "markdown",
      "source": [
        "a) Bu noktalardan ikisinden geçen en çok kaç farklı doğru çizilebilir ?"
      ]
    },
    {
      "metadata": {
        "id": "cmO6E6hnF0zI",
        "colab_type": "code",
        "colab": {}
      },
      "cell_type": "code",
      "source": [
        "n=7\n",
        "x=2\n",
        "sonuc= math.factorial(7) / (math.factorial(n-x)*math.factorial(x))\n",
        "print(\"%s! / (%s! * %s!) = %s tane doğru çizilebilir\" %(n,n-x,x,int(sonuc)))"
      ],
      "execution_count": 0,
      "outputs": []
    },
    {
      "metadata": {
        "id": "TyyUpsErF4iP",
        "colab_type": "text"
      },
      "cell_type": "markdown",
      "source": [
        "b) Köşeleri bu noktalar üzerinde bulunan en çok kaç üçgen çizilebilir ?"
      ]
    },
    {
      "metadata": {
        "id": "pf96v_5oF7Ym",
        "colab_type": "code",
        "colab": {}
      },
      "cell_type": "code",
      "source": [
        "n=7\n",
        "x=3\n",
        "sonuc= math.factorial(n) / (math.factorial(n-x)*math.factorial(x))\n",
        "print(\"%s! / (%s! * %s!) = %s tane üçgen çizilebilir\" %(n,n-x,x,int(sonuc)))"
      ],
      "execution_count": 0,
      "outputs": []
    }
  ]
}