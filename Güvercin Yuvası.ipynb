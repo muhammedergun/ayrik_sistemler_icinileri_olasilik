{
  "nbformat": 4,
  "nbformat_minor": 0,
  "metadata": {
    "colab": {
      "name": "Untitled1.ipynb",
      "version": "0.3.2",
      "provenance": []
    },
    "kernelspec": {
      "name": "python3",
      "display_name": "Python 3"
    }
  },
  "cells": [
    {
      "metadata": {
        "id": "waVBevy0ZHm0",
        "colab_type": "text"
      },
      "cell_type": "markdown",
      "source": [
        "# {1,2,3,4,...,24} kümesinden herhangi 13 eleman seçildiğinde bu seçilen elemanların içinde toplamı 25 olan en az 1 tane sayı ikilisinin bulunduğunu ispatlayınız."
      ]
    },
    {
      "metadata": {
        "id": "X2BvAQqcZZb4",
        "colab_type": "code",
        "colab": {
          "base_uri": "https://localhost:8080/",
          "height": 34
        },
        "outputId": "a4d3a13a-b91f-4c41-e656-7dc862e2729d"
      },
      "cell_type": "code",
      "source": [
        "import random\n",
        "lst=[]\n",
        "for i in range(1,25):\n",
        "    lst.append(i)\n",
        "print(lst)\n",
        "\n",
        "liste=[]"
      ],
      "execution_count": 2,
      "outputs": [
        {
          "output_type": "stream",
          "text": [
            "[1, 2, 3, 4, 5, 6, 7, 8, 9, 10, 11, 12, 13, 14, 15, 16, 17, 18, 19, 20, 21, 22, 23, 24]\n"
          ],
          "name": "stdout"
        }
      ]
    },
    {
      "metadata": {
        "id": "MIfSONvKZqfI",
        "colab_type": "code",
        "colab": {
          "base_uri": "https://localhost:8080/",
          "height": 34
        },
        "outputId": "a9156802-f83e-4b77-e163-844164816bad"
      },
      "cell_type": "code",
      "source": [
        "for i in range(0,13):           \n",
        "    for k in range(0,13):\n",
        "        a=random.choice(lst)\n",
        "        if(a  not in liste):\n",
        "            liste.append(a)\n",
        "            break\n",
        "        else:\n",
        "            continue           \n",
        "print(\"secilen sayilar = %s\"% liste)    "
      ],
      "execution_count": 3,
      "outputs": [
        {
          "output_type": "stream",
          "text": [
            "secilen sayilar = [1, 23, 24, 5, 18, 4, 14, 3, 12, 11, 19, 13, 9]\n"
          ],
          "name": "stdout"
        }
      ]
    },
    {
      "metadata": {
        "id": "1mFG51NpZyeA",
        "colab_type": "code",
        "colab": {
          "base_uri": "https://localhost:8080/",
          "height": 119
        },
        "outputId": "ef49f6cb-f9ae-42db-f525-479d04472904"
      },
      "cell_type": "code",
      "source": [
        "for i in range(0,13):          \n",
        "    for x in range(0,13):\n",
        "        if(liste[i]+liste[x]==25):\n",
        "            print(\"%s + % s = 25 \" %(liste[i],liste[x]))"
      ],
      "execution_count": 4,
      "outputs": [
        {
          "output_type": "stream",
          "text": [
            "1 + 24 = 25 \n",
            "24 + 1 = 25 \n",
            "14 + 11 = 25 \n",
            "12 + 13 = 25 \n",
            "11 + 14 = 25 \n",
            "13 + 12 = 25 \n"
          ],
          "name": "stdout"
        }
      ]
    }
  ]
}