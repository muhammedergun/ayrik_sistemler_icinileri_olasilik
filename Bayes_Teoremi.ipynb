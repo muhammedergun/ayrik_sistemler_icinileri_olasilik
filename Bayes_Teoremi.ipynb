{
  "nbformat": 4,
  "nbformat_minor": 0,
  "metadata": {
    "colab": {
      "name": "Bayes_Teoremi.ipynb",
      "version": "0.3.2",
      "provenance": [],
      "collapsed_sections": [],
      "include_colab_link": true
    },
    "kernelspec": {
      "name": "python3",
      "display_name": "Python 3"
    }
  },
  "cells": [
    {
      "cell_type": "markdown",
      "metadata": {
        "id": "view-in-github",
        "colab_type": "text"
      },
      "source": [
        "<a href=\"https://colab.research.google.com/github/muhammedergun/ayrik_sistemler_icinileri_olasilik/blob/master/Bayes_Teoremi.ipynb\" target=\"_parent\"><img src=\"https://colab.research.google.com/assets/colab-badge.svg\" alt=\"Open In Colab\"/></a>"
      ]
    },
    {
      "metadata": {
        "id": "S4gtH6MYXSSt",
        "colab_type": "text"
      },
      "cell_type": "markdown",
      "source": [
        "# Bayes Teoremi Örneği"
      ]
    },
    {
      "metadata": {
        "id": "4rVct1BAXYj7",
        "colab_type": "text"
      },
      "cell_type": "markdown",
      "source": [
        "Nüfusun %5 inde görülen A hastalığını taşıyan insanların %70 inde \n",
        "x geni tespit edilmiştir. Hastalığı taşımayan insanların ise yalnızca\n",
        " %20 si bu gene sahiptir. X geni taşıyan insanların hasta olma ihtimali nedir?\n"
      ]
    },
    {
      "metadata": {
        "id": "of_JzpsSXd3b",
        "colab_type": "text"
      },
      "cell_type": "markdown",
      "source": [
        "A    : A hastalığı taşınması\n",
        "\n",
        "NA : A hastalığı taşınmaması\n",
        "\n",
        "X    : X geni taşınması\n",
        "\n",
        "NX : X geni taşınmaması\n",
        "\n",
        "\n",
        "P(A/X)=?\n",
        "\n",
        "\n",
        "P(A)=0.05\n",
        "\n",
        "P(NA)=0.95\n",
        "\n",
        "P(X/A)=0.70\n",
        "\n",
        "P(NX/A)=0.30\n",
        "\n",
        "P(X/NA)=0.20\n",
        "\n",
        "P(X/NA)=0.80\n",
        "\n",
        "P(A/X)=?= (P(X/A)*P(A)) / P(X) --> Bayes Formülü\n",
        "\n",
        "P(A/X)=(0.70 * 0.05 )/ P(X)\n",
        "\n",
        "P(X)=P(A n X) + p(NA n X )\n",
        "\n",
        "P(A n X) = P(X/A)*P(A) = 0.70 x 0.05 = 0.035  --> Koşullu olasılık\n",
        "\n",
        "P(NA n X)=P(X/NA)*P(NA) = 0.20 x 0.95 = 0.19 --> Koşullu olasılık\n",
        "\n",
        "P(X)=0.035 + 0.19 = 0.225\n",
        "\n",
        "P(A/X)=(0.70*0.05) / 0.225\n",
        "\n",
        "P(A/X)=0.155\n"
      ]
    },
    {
      "metadata": {
        "id": "fEHK0YEfaEnz",
        "colab_type": "code",
        "colab": {
          "base_uri": "https://localhost:8080/",
          "height": 34
        },
        "outputId": "1c35a3a3-5021-4e37-844c-bd4d8d1a73e5"
      },
      "cell_type": "code",
      "source": [
        "xa=0.70\n",
        "xna=0.20\n",
        "a=0.05\n",
        "na=0.95\n",
        "px= xa*a + xna*na\n",
        "\n",
        "sonuc = ( xa * a ) / px\n",
        "print(sonuc)\n"
      ],
      "execution_count": 2,
      "outputs": [
        {
          "output_type": "stream",
          "text": [
            "0.15555555555555553\n"
          ],
          "name": "stdout"
        }
      ]
    }
  ]
}