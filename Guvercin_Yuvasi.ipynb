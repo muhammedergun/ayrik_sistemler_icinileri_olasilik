{
  "nbformat": 4,
  "nbformat_minor": 0,
  "metadata": {
    "colab": {
      "name": "Guvercin_Yuvasi.ipynb",
      "version": "0.3.2",
      "provenance": [],
      "include_colab_link": true
    },
    "kernelspec": {
      "name": "python3",
      "display_name": "Python 3"
    }
  },
  "cells": [
    {
      "cell_type": "markdown",
      "metadata": {
        "id": "view-in-github",
        "colab_type": "text"
      },
      "source": [
        "<a href=\"https://colab.research.google.com/github/muhammedergun/ayrik_sistemler_icinileri_olasilik/blob/master/Guvercin_Yuvasi.ipynb\" target=\"_parent\"><img src=\"https://colab.research.google.com/assets/colab-badge.svg\" alt=\"Open In Colab\"/></a>"
      ]
    },
    {
      "metadata": {
        "id": "aEEK2BkRfc7r",
        "colab_type": "text"
      },
      "cell_type": "markdown",
      "source": [
        "#Güvercin Yuvası Örneği\n"
      ]
    },
    {
      "metadata": {
        "id": "WuACjQMohQSX",
        "colab_type": "text"
      },
      "cell_type": "markdown",
      "source": [
        "1 den  24 e kadar sıralı tam sayılardan oluşan bir kümemiz olsun. Bu kümeden 13 tane rastgele sayı seçelim. Bu seçilen 13 sayı arasında muhakkak öyle  2 sayı vardır ki toplamları 25 tir. Burada “muhakkak” kelimesi önemlidir çünkü güvercin yuvası prensibi ile bu kesinliği sağlarız."
      ]
    },
    {
      "metadata": {
        "id": "uwHELGDefo1l",
        "colab_type": "code",
        "colab": {}
      },
      "cell_type": "code",
      "source": [
        "import random\n",
        "lst=[]\n",
        "for i in range(1,25):         \n",
        "    lst.append(i)\n",
        "print(lst)\n",
        "\n",
        "liste=[]\n",
        "\n",
        "for i in range(0,13):     \n",
        "    for k in range(0,13):\n",
        "        a=random.choice(lst)\n",
        "        if(a  not in liste):\n",
        "            liste.append(a)\n",
        "            break\n",
        "        else:\n",
        "            continue           \n",
        "print(\"secilen sayilar = %s\"% liste)\n",
        "                \n",
        "for i in range(0,13):\n",
        "    for x in range(0,13):\n",
        "        if(liste[i]+liste[x]==25):\n",
        "            print(\"%s + % s = 25 \" %(liste[i],liste[x]))\n",
        "            "
      ],
      "execution_count": 0,
      "outputs": []
    }
  ]
}